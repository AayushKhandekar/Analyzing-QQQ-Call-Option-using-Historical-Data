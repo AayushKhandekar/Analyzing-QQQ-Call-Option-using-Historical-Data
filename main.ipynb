{
 "cells": [
  {
   "cell_type": "markdown",
   "id": "6022de79-9ef8-4665-a1a0-6a2518045fb9",
   "metadata": {},
   "source": [
    "# Analyzing QQQ Call Option using Historical Data"
   ]
  },
  {
   "cell_type": "markdown",
   "id": "19b903e7-1095-4445-81ce-f5a0f5b165f4",
   "metadata": {},
   "source": [
    "### imports"
   ]
  },
  {
   "cell_type": "code",
   "execution_count": 1,
   "id": "c03b6f9e-6cff-4162-8f85-75d71f09c78b",
   "metadata": {},
   "outputs": [
    {
     "name": "stderr",
     "output_type": "stream",
     "text": [
      "/Users/aayushkhandekar/Library/Python/3.9/lib/python/site-packages/urllib3/__init__.py:34: NotOpenSSLWarning: urllib3 v2.0 only supports OpenSSL 1.1.1+, currently the 'ssl' module is compiled with 'LibreSSL 2.8.3'. See: https://github.com/urllib3/urllib3/issues/3020\n",
      "  warnings.warn(\n"
     ]
    }
   ],
   "source": [
    "import pandas as pd\n",
    "import numpy as np\n",
    "import yfinance as yf\n",
    "import warnings\n",
    "import matplotlib.pyplot as plt"
   ]
  },
  {
   "cell_type": "markdown",
   "id": "8658d10a-1fc9-4456-9d15-afb0ef1852b5",
   "metadata": {},
   "source": [
    "### get data"
   ]
  },
  {
   "cell_type": "code",
   "execution_count": 2,
   "id": "f262ee34-ca44-43a9-98ca-c1b0961a1a24",
   "metadata": {},
   "outputs": [],
   "source": [
    "ticker_symbol = 'QQQ'\n",
    "\n",
    "ticker = yf.Ticker(ticker_symbol)\n",
    "\n",
    "option_dates = ticker.options\n",
    "\n",
    "expiry_date = option_dates[0] # 2024-06-20\n",
    "\n",
    "strike_price = 420\n",
    "\n",
    "premium = 10 # assumption\n",
    "\n",
    "options = ticker.option_chain(expiry_date)\n",
    "\n",
    "calls = options.calls\n",
    "\n",
    "puts = options.puts\n",
    "\n",
    "option_type = 'call'"
   ]
  },
  {
   "cell_type": "code",
   "execution_count": 3,
   "id": "c3179178-08fd-43a9-bb4e-07efcb4a1896",
   "metadata": {},
   "outputs": [
    {
     "name": "stderr",
     "output_type": "stream",
     "text": [
      "[*********************100%%**********************]  1 of 1 completed\n"
     ]
    }
   ],
   "source": [
    "start_date = '2023-05-20'\n",
    "\n",
    "end_date = '2024-06-20'\n",
    "\n",
    "data = yf.download(ticker_symbol, start = start_date, end = end_date)"
   ]
  },
  {
   "cell_type": "markdown",
   "id": "26c0b11c-d8fa-4ad6-862f-06ab610ae104",
   "metadata": {},
   "source": [
    "### in-the-money, at-the-money, out-the-money (call option)"
   ]
  },
  {
   "cell_type": "code",
   "execution_count": 4,
   "id": "ca1ef9b1-76d1-4447-8185-ffcee61b079a",
   "metadata": {},
   "outputs": [
    {
     "data": {
      "text/html": [
       "<div>\n",
       "<style scoped>\n",
       "    .dataframe tbody tr th:only-of-type {\n",
       "        vertical-align: middle;\n",
       "    }\n",
       "\n",
       "    .dataframe tbody tr th {\n",
       "        vertical-align: top;\n",
       "    }\n",
       "\n",
       "    .dataframe thead th {\n",
       "        text-align: right;\n",
       "    }\n",
       "</style>\n",
       "<table border=\"1\" class=\"dataframe\">\n",
       "  <thead>\n",
       "    <tr style=\"text-align: right;\">\n",
       "      <th></th>\n",
       "      <th>Open</th>\n",
       "      <th>High</th>\n",
       "      <th>Low</th>\n",
       "      <th>Close</th>\n",
       "      <th>Adj Close</th>\n",
       "      <th>Volume</th>\n",
       "      <th>Status</th>\n",
       "    </tr>\n",
       "    <tr>\n",
       "      <th>Date</th>\n",
       "      <th></th>\n",
       "      <th></th>\n",
       "      <th></th>\n",
       "      <th></th>\n",
       "      <th></th>\n",
       "      <th></th>\n",
       "      <th></th>\n",
       "    </tr>\n",
       "  </thead>\n",
       "  <tbody>\n",
       "    <tr>\n",
       "      <th>2023-05-22</th>\n",
       "      <td>336.250000</td>\n",
       "      <td>338.670013</td>\n",
       "      <td>336.239990</td>\n",
       "      <td>337.640015</td>\n",
       "      <td>334.866577</td>\n",
       "      <td>43015900</td>\n",
       "      <td>Out-the-money</td>\n",
       "    </tr>\n",
       "    <tr>\n",
       "      <th>2023-05-23</th>\n",
       "      <td>335.890015</td>\n",
       "      <td>337.059998</td>\n",
       "      <td>333.000000</td>\n",
       "      <td>333.359985</td>\n",
       "      <td>330.621674</td>\n",
       "      <td>48216700</td>\n",
       "      <td>Out-the-money</td>\n",
       "    </tr>\n",
       "    <tr>\n",
       "      <th>2023-05-24</th>\n",
       "      <td>331.369995</td>\n",
       "      <td>332.910004</td>\n",
       "      <td>329.559998</td>\n",
       "      <td>331.649994</td>\n",
       "      <td>328.925751</td>\n",
       "      <td>62891200</td>\n",
       "      <td>Out-the-money</td>\n",
       "    </tr>\n",
       "    <tr>\n",
       "      <th>2023-05-25</th>\n",
       "      <td>339.140015</td>\n",
       "      <td>341.010010</td>\n",
       "      <td>336.670013</td>\n",
       "      <td>339.720001</td>\n",
       "      <td>336.929474</td>\n",
       "      <td>66862800</td>\n",
       "      <td>Out-the-money</td>\n",
       "    </tr>\n",
       "    <tr>\n",
       "      <th>2023-05-26</th>\n",
       "      <td>340.760010</td>\n",
       "      <td>349.250000</td>\n",
       "      <td>340.660004</td>\n",
       "      <td>348.399994</td>\n",
       "      <td>345.538147</td>\n",
       "      <td>63007000</td>\n",
       "      <td>Out-the-money</td>\n",
       "    </tr>\n",
       "  </tbody>\n",
       "</table>\n",
       "</div>"
      ],
      "text/plain": [
       "                  Open        High         Low       Close   Adj Close  \\\n",
       "Date                                                                     \n",
       "2023-05-22  336.250000  338.670013  336.239990  337.640015  334.866577   \n",
       "2023-05-23  335.890015  337.059998  333.000000  333.359985  330.621674   \n",
       "2023-05-24  331.369995  332.910004  329.559998  331.649994  328.925751   \n",
       "2023-05-25  339.140015  341.010010  336.670013  339.720001  336.929474   \n",
       "2023-05-26  340.760010  349.250000  340.660004  348.399994  345.538147   \n",
       "\n",
       "              Volume         Status  \n",
       "Date                                 \n",
       "2023-05-22  43015900  Out-the-money  \n",
       "2023-05-23  48216700  Out-the-money  \n",
       "2023-05-24  62891200  Out-the-money  \n",
       "2023-05-25  66862800  Out-the-money  \n",
       "2023-05-26  63007000  Out-the-money  "
      ]
     },
     "execution_count": 4,
     "metadata": {},
     "output_type": "execute_result"
    }
   ],
   "source": [
    "data['Status'] = np.where(data['Close'] > strike_price, 'In-the-money', np.where(data['Close'] == strike_price, 'At-the-money', 'Out-the-money')) \n",
    "\n",
    "data.head()"
   ]
  },
  {
   "cell_type": "markdown",
   "id": "d5b12f93-fe33-4b35-8128-c05cfaf04ceb",
   "metadata": {},
   "source": [
    "### calculate intrinsic value"
   ]
  },
  {
   "cell_type": "code",
   "execution_count": 5,
   "id": "83c58e54-90df-49dc-a9fa-08aa269de10d",
   "metadata": {},
   "outputs": [
    {
     "data": {
      "text/html": [
       "<div>\n",
       "<style scoped>\n",
       "    .dataframe tbody tr th:only-of-type {\n",
       "        vertical-align: middle;\n",
       "    }\n",
       "\n",
       "    .dataframe tbody tr th {\n",
       "        vertical-align: top;\n",
       "    }\n",
       "\n",
       "    .dataframe thead th {\n",
       "        text-align: right;\n",
       "    }\n",
       "</style>\n",
       "<table border=\"1\" class=\"dataframe\">\n",
       "  <thead>\n",
       "    <tr style=\"text-align: right;\">\n",
       "      <th></th>\n",
       "      <th>Open</th>\n",
       "      <th>High</th>\n",
       "      <th>Low</th>\n",
       "      <th>Close</th>\n",
       "      <th>Adj Close</th>\n",
       "      <th>Volume</th>\n",
       "      <th>Status</th>\n",
       "      <th>Intrinsic Value</th>\n",
       "    </tr>\n",
       "    <tr>\n",
       "      <th>Date</th>\n",
       "      <th></th>\n",
       "      <th></th>\n",
       "      <th></th>\n",
       "      <th></th>\n",
       "      <th></th>\n",
       "      <th></th>\n",
       "      <th></th>\n",
       "      <th></th>\n",
       "    </tr>\n",
       "  </thead>\n",
       "  <tbody>\n",
       "    <tr>\n",
       "      <th>2023-05-22</th>\n",
       "      <td>336.250000</td>\n",
       "      <td>338.670013</td>\n",
       "      <td>336.239990</td>\n",
       "      <td>337.640015</td>\n",
       "      <td>334.866577</td>\n",
       "      <td>43015900</td>\n",
       "      <td>Out-the-money</td>\n",
       "      <td>0.0</td>\n",
       "    </tr>\n",
       "    <tr>\n",
       "      <th>2023-05-23</th>\n",
       "      <td>335.890015</td>\n",
       "      <td>337.059998</td>\n",
       "      <td>333.000000</td>\n",
       "      <td>333.359985</td>\n",
       "      <td>330.621674</td>\n",
       "      <td>48216700</td>\n",
       "      <td>Out-the-money</td>\n",
       "      <td>0.0</td>\n",
       "    </tr>\n",
       "    <tr>\n",
       "      <th>2023-05-24</th>\n",
       "      <td>331.369995</td>\n",
       "      <td>332.910004</td>\n",
       "      <td>329.559998</td>\n",
       "      <td>331.649994</td>\n",
       "      <td>328.925751</td>\n",
       "      <td>62891200</td>\n",
       "      <td>Out-the-money</td>\n",
       "      <td>0.0</td>\n",
       "    </tr>\n",
       "    <tr>\n",
       "      <th>2023-05-25</th>\n",
       "      <td>339.140015</td>\n",
       "      <td>341.010010</td>\n",
       "      <td>336.670013</td>\n",
       "      <td>339.720001</td>\n",
       "      <td>336.929474</td>\n",
       "      <td>66862800</td>\n",
       "      <td>Out-the-money</td>\n",
       "      <td>0.0</td>\n",
       "    </tr>\n",
       "    <tr>\n",
       "      <th>2023-05-26</th>\n",
       "      <td>340.760010</td>\n",
       "      <td>349.250000</td>\n",
       "      <td>340.660004</td>\n",
       "      <td>348.399994</td>\n",
       "      <td>345.538147</td>\n",
       "      <td>63007000</td>\n",
       "      <td>Out-the-money</td>\n",
       "      <td>0.0</td>\n",
       "    </tr>\n",
       "  </tbody>\n",
       "</table>\n",
       "</div>"
      ],
      "text/plain": [
       "                  Open        High         Low       Close   Adj Close  \\\n",
       "Date                                                                     \n",
       "2023-05-22  336.250000  338.670013  336.239990  337.640015  334.866577   \n",
       "2023-05-23  335.890015  337.059998  333.000000  333.359985  330.621674   \n",
       "2023-05-24  331.369995  332.910004  329.559998  331.649994  328.925751   \n",
       "2023-05-25  339.140015  341.010010  336.670013  339.720001  336.929474   \n",
       "2023-05-26  340.760010  349.250000  340.660004  348.399994  345.538147   \n",
       "\n",
       "              Volume         Status  Intrinsic Value  \n",
       "Date                                                  \n",
       "2023-05-22  43015900  Out-the-money              0.0  \n",
       "2023-05-23  48216700  Out-the-money              0.0  \n",
       "2023-05-24  62891200  Out-the-money              0.0  \n",
       "2023-05-25  66862800  Out-the-money              0.0  \n",
       "2023-05-26  63007000  Out-the-money              0.0  "
      ]
     },
     "execution_count": 5,
     "metadata": {},
     "output_type": "execute_result"
    }
   ],
   "source": [
    "data['Intrinsic Value'] = np.maximum(0, data['Close'] - strike_price) if option_type == 'call' else np.maximum(0, strike_price - data['Close'])\n",
    "\n",
    "data.head()"
   ]
  },
  {
   "cell_type": "markdown",
   "id": "3644e8eb-3abe-4c53-9f77-86232d1cb774",
   "metadata": {},
   "source": [
    "### assumption: option was bought at the start_date"
   ]
  },
  {
   "cell_type": "code",
   "execution_count": 6,
   "id": "cd249a2b-6cbb-4481-99c8-55d2eff42f3a",
   "metadata": {},
   "outputs": [],
   "source": [
    "data['Profit/Loss'] = data['Intrinsic Value'] - data['Intrinsic Value'].iloc[0]"
   ]
  },
  {
   "cell_type": "code",
   "execution_count": 7,
   "id": "f922fed9-92a0-4a92-ae92-10ac09b69303",
   "metadata": {},
   "outputs": [],
   "source": [
    "data['Net Profit/Loss'] = data['Profit/Loss'] - premium"
   ]
  },
  {
   "cell_type": "code",
   "execution_count": 9,
   "id": "664357ed-e6ea-4b70-8d2c-c8bbd939e981",
   "metadata": {},
   "outputs": [
    {
     "data": {
      "text/html": [
       "<div>\n",
       "<style scoped>\n",
       "    .dataframe tbody tr th:only-of-type {\n",
       "        vertical-align: middle;\n",
       "    }\n",
       "\n",
       "    .dataframe tbody tr th {\n",
       "        vertical-align: top;\n",
       "    }\n",
       "\n",
       "    .dataframe thead th {\n",
       "        text-align: right;\n",
       "    }\n",
       "</style>\n",
       "<table border=\"1\" class=\"dataframe\">\n",
       "  <thead>\n",
       "    <tr style=\"text-align: right;\">\n",
       "      <th></th>\n",
       "      <th>Open</th>\n",
       "      <th>High</th>\n",
       "      <th>Low</th>\n",
       "      <th>Close</th>\n",
       "      <th>Adj Close</th>\n",
       "      <th>Volume</th>\n",
       "      <th>Status</th>\n",
       "      <th>Intrinsic Value</th>\n",
       "      <th>Profit/Loss</th>\n",
       "      <th>Net Profit/Loss</th>\n",
       "    </tr>\n",
       "    <tr>\n",
       "      <th>Date</th>\n",
       "      <th></th>\n",
       "      <th></th>\n",
       "      <th></th>\n",
       "      <th></th>\n",
       "      <th></th>\n",
       "      <th></th>\n",
       "      <th></th>\n",
       "      <th></th>\n",
       "      <th></th>\n",
       "      <th></th>\n",
       "    </tr>\n",
       "  </thead>\n",
       "  <tbody>\n",
       "    <tr>\n",
       "      <th>2024-06-12</th>\n",
       "      <td>471.989990</td>\n",
       "      <td>476.500000</td>\n",
       "      <td>471.290009</td>\n",
       "      <td>474.149994</td>\n",
       "      <td>473.397552</td>\n",
       "      <td>34532600</td>\n",
       "      <td>In-the-money</td>\n",
       "      <td>54.149994</td>\n",
       "      <td>54.149994</td>\n",
       "      <td>44.149994</td>\n",
       "    </tr>\n",
       "    <tr>\n",
       "      <th>2024-06-13</th>\n",
       "      <td>477.720001</td>\n",
       "      <td>478.390015</td>\n",
       "      <td>474.420013</td>\n",
       "      <td>476.720001</td>\n",
       "      <td>475.963501</td>\n",
       "      <td>25859000</td>\n",
       "      <td>In-the-money</td>\n",
       "      <td>56.720001</td>\n",
       "      <td>56.720001</td>\n",
       "      <td>46.720001</td>\n",
       "    </tr>\n",
       "    <tr>\n",
       "      <th>2024-06-14</th>\n",
       "      <td>476.519989</td>\n",
       "      <td>479.260010</td>\n",
       "      <td>476.049988</td>\n",
       "      <td>479.190002</td>\n",
       "      <td>478.429565</td>\n",
       "      <td>23372600</td>\n",
       "      <td>In-the-money</td>\n",
       "      <td>59.190002</td>\n",
       "      <td>59.190002</td>\n",
       "      <td>49.190002</td>\n",
       "    </tr>\n",
       "    <tr>\n",
       "      <th>2024-06-17</th>\n",
       "      <td>479.459991</td>\n",
       "      <td>486.859985</td>\n",
       "      <td>478.140015</td>\n",
       "      <td>485.059998</td>\n",
       "      <td>484.290253</td>\n",
       "      <td>37054500</td>\n",
       "      <td>In-the-money</td>\n",
       "      <td>65.059998</td>\n",
       "      <td>65.059998</td>\n",
       "      <td>55.059998</td>\n",
       "    </tr>\n",
       "    <tr>\n",
       "      <th>2024-06-18</th>\n",
       "      <td>485.010010</td>\n",
       "      <td>485.899994</td>\n",
       "      <td>483.429993</td>\n",
       "      <td>485.209991</td>\n",
       "      <td>484.440002</td>\n",
       "      <td>24438600</td>\n",
       "      <td>In-the-money</td>\n",
       "      <td>65.209991</td>\n",
       "      <td>65.209991</td>\n",
       "      <td>55.209991</td>\n",
       "    </tr>\n",
       "  </tbody>\n",
       "</table>\n",
       "</div>"
      ],
      "text/plain": [
       "                  Open        High         Low       Close   Adj Close  \\\n",
       "Date                                                                     \n",
       "2024-06-12  471.989990  476.500000  471.290009  474.149994  473.397552   \n",
       "2024-06-13  477.720001  478.390015  474.420013  476.720001  475.963501   \n",
       "2024-06-14  476.519989  479.260010  476.049988  479.190002  478.429565   \n",
       "2024-06-17  479.459991  486.859985  478.140015  485.059998  484.290253   \n",
       "2024-06-18  485.010010  485.899994  483.429993  485.209991  484.440002   \n",
       "\n",
       "              Volume        Status  Intrinsic Value  Profit/Loss  \\\n",
       "Date                                                               \n",
       "2024-06-12  34532600  In-the-money        54.149994    54.149994   \n",
       "2024-06-13  25859000  In-the-money        56.720001    56.720001   \n",
       "2024-06-14  23372600  In-the-money        59.190002    59.190002   \n",
       "2024-06-17  37054500  In-the-money        65.059998    65.059998   \n",
       "2024-06-18  24438600  In-the-money        65.209991    65.209991   \n",
       "\n",
       "            Net Profit/Loss  \n",
       "Date                         \n",
       "2024-06-12        44.149994  \n",
       "2024-06-13        46.720001  \n",
       "2024-06-14        49.190002  \n",
       "2024-06-17        55.059998  \n",
       "2024-06-18        55.209991  "
      ]
     },
     "execution_count": 9,
     "metadata": {},
     "output_type": "execute_result"
    }
   ],
   "source": [
    "data.tail()"
   ]
  },
  {
   "cell_type": "markdown",
   "id": "65488b69-2560-4700-ac58-472f910ca127",
   "metadata": {},
   "source": [
    "### plot: profit/loss"
   ]
  },
  {
   "cell_type": "code",
   "execution_count": 8,
   "id": "ae8038f0-27b4-488b-8cfa-f8eb6c9580f0",
   "metadata": {},
   "outputs": [
    {
     "data": {
      "image/png": "[encoded data removed]",
      "text/plain": [
       "<Figure size 640x480 with 1 Axes>"
      ]
     },
     "metadata": {},
     "output_type": "display_data"
    },
    {
     "data": {
      "text/plain": [
       "<Figure size 1800x1200 with 0 Axes>"
      ]
     },
     "metadata": {},
     "output_type": "display_data"
    }
   ],
   "source": [
    "plt.plot(data['Profit/Loss'], label = 'Option Profit/Loss')\n",
    "plt.plot(data['Net Profit/Loss'], label = 'Option Net Profit/Loss')\n",
    "plt.title('QQQ - Profit/Loss on Expiry 2024-06-20 at Strike_Price 420')\n",
    "plt.xlabel('Date')\n",
    "plt.ylabel('Profit/Loss')\n",
    "plt.legend()\n",
    "plt.figure(figsize = (18, 12))\n",
    "plt.show()"
   ]
  },
  {
   "cell_type": "markdown",
   "id": "66ed21d6-8b7f-40a9-89f8-995aab4dc68e",
   "metadata": {},
   "source": [
    "### plot: comparison of intrinsic value vs stock price"
   ]
  },
  {
   "cell_type": "code",
   "execution_count": 27,
   "id": "e5736e18-ebf4-4e44-9aa4-c06dde017385",
   "metadata": {
    "scrolled": true
   },
   "outputs": [
    {
     "data": {
      "image/png": "[encoded data removed]",
      "text/plain": [
       "<Figure size 640x480 with 1 Axes>"
      ]
     },
     "metadata": {},
     "output_type": "display_data"
    },
    {
     "data": {
      "text/plain": [
       "<Figure size 1800x1200 with 0 Axes>"
      ]
     },
     "metadata": {},
     "output_type": "display_data"
    }
   ],
   "source": [
    "plt.plot(data['Intrinsic Value'], label = \"Intrinsic Value\")\n",
    "plt.plot(data['Close'], label = \"Stock Price\")\n",
    "plt.title('QQQ - Intrinsic Value vs Stock Price')\n",
    "plt.xlabel('Date')\n",
    "plt.ylabel('Price')\n",
    "plt.legend()\n",
    "plt.figure(figsize = (18, 12))\n",
    "plt.show()"
   ]
  },
  {
   "cell_type": "markdown",
   "id": "c7476a7e-e53b-4719-ac3d-007d5f26370f",
   "metadata": {},
   "source": [
    "### plot: in-the-money options"
   ]
  },
  {
   "cell_type": "code",
   "execution_count": 23,
   "id": "1a0b9b77-dcae-45b0-95e3-dccfc2bf3d4d",
   "metadata": {},
   "outputs": [
    {
     "data": {
      "text/html": [
       "<div>\n",
       "<style scoped>\n",
       "    .dataframe tbody tr th:only-of-type {\n",
       "        vertical-align: middle;\n",
       "    }\n",
       "\n",
       "    .dataframe tbody tr th {\n",
       "        vertical-align: top;\n",
       "    }\n",
       "\n",
       "    .dataframe thead th {\n",
       "        text-align: right;\n",
       "    }\n",
       "</style>\n",
       "<table border=\"1\" class=\"dataframe\">\n",
       "  <thead>\n",
       "    <tr style=\"text-align: right;\">\n",
       "      <th></th>\n",
       "      <th>Open</th>\n",
       "      <th>High</th>\n",
       "      <th>Low</th>\n",
       "      <th>Close</th>\n",
       "      <th>Adj Close</th>\n",
       "      <th>Volume</th>\n",
       "      <th>Status</th>\n",
       "      <th>Intrinsic Value</th>\n",
       "      <th>Profit/Loss</th>\n",
       "      <th>Net Profit/Loss</th>\n",
       "    </tr>\n",
       "    <tr>\n",
       "      <th>Date</th>\n",
       "      <th></th>\n",
       "      <th></th>\n",
       "      <th></th>\n",
       "      <th></th>\n",
       "      <th></th>\n",
       "      <th></th>\n",
       "      <th></th>\n",
       "      <th></th>\n",
       "      <th></th>\n",
       "      <th></th>\n",
       "    </tr>\n",
       "  </thead>\n",
       "  <tbody>\n",
       "    <tr>\n",
       "      <th>2024-01-19</th>\n",
       "      <td>415.220001</td>\n",
       "      <td>421.339996</td>\n",
       "      <td>414.630005</td>\n",
       "      <td>421.179993</td>\n",
       "      <td>420.623810</td>\n",
       "      <td>70268500</td>\n",
       "      <td>In-the-money</td>\n",
       "      <td>1.179993</td>\n",
       "      <td>1.179993</td>\n",
       "      <td>-8.820007</td>\n",
       "    </tr>\n",
       "    <tr>\n",
       "      <th>2024-01-22</th>\n",
       "      <td>423.410004</td>\n",
       "      <td>424.730011</td>\n",
       "      <td>421.119995</td>\n",
       "      <td>421.730011</td>\n",
       "      <td>421.173096</td>\n",
       "      <td>44880600</td>\n",
       "      <td>In-the-money</td>\n",
       "      <td>1.730011</td>\n",
       "      <td>1.730011</td>\n",
       "      <td>-8.269989</td>\n",
       "    </tr>\n",
       "    <tr>\n",
       "      <th>2024-01-23</th>\n",
       "      <td>422.429993</td>\n",
       "      <td>423.700012</td>\n",
       "      <td>420.570007</td>\n",
       "      <td>423.480011</td>\n",
       "      <td>422.920776</td>\n",
       "      <td>33003800</td>\n",
       "      <td>In-the-money</td>\n",
       "      <td>3.480011</td>\n",
       "      <td>3.480011</td>\n",
       "      <td>-6.519989</td>\n",
       "    </tr>\n",
       "    <tr>\n",
       "      <th>2024-01-24</th>\n",
       "      <td>427.440002</td>\n",
       "      <td>429.850006</td>\n",
       "      <td>425.329987</td>\n",
       "      <td>425.829987</td>\n",
       "      <td>425.267670</td>\n",
       "      <td>46948000</td>\n",
       "      <td>In-the-money</td>\n",
       "      <td>5.829987</td>\n",
       "      <td>5.829987</td>\n",
       "      <td>-4.170013</td>\n",
       "    </tr>\n",
       "    <tr>\n",
       "      <th>2024-01-25</th>\n",
       "      <td>428.359985</td>\n",
       "      <td>429.040009</td>\n",
       "      <td>423.980011</td>\n",
       "      <td>426.350006</td>\n",
       "      <td>425.786987</td>\n",
       "      <td>44367200</td>\n",
       "      <td>In-the-money</td>\n",
       "      <td>6.350006</td>\n",
       "      <td>6.350006</td>\n",
       "      <td>-3.649994</td>\n",
       "    </tr>\n",
       "    <tr>\n",
       "      <th>...</th>\n",
       "      <td>...</td>\n",
       "      <td>...</td>\n",
       "      <td>...</td>\n",
       "      <td>...</td>\n",
       "      <td>...</td>\n",
       "      <td>...</td>\n",
       "      <td>...</td>\n",
       "      <td>...</td>\n",
       "      <td>...</td>\n",
       "      <td>...</td>\n",
       "    </tr>\n",
       "    <tr>\n",
       "      <th>2024-06-12</th>\n",
       "      <td>471.989990</td>\n",
       "      <td>476.500000</td>\n",
       "      <td>471.290009</td>\n",
       "      <td>474.149994</td>\n",
       "      <td>474.149994</td>\n",
       "      <td>34532600</td>\n",
       "      <td>In-the-money</td>\n",
       "      <td>54.149994</td>\n",
       "      <td>54.149994</td>\n",
       "      <td>44.149994</td>\n",
       "    </tr>\n",
       "    <tr>\n",
       "      <th>2024-06-13</th>\n",
       "      <td>477.720001</td>\n",
       "      <td>478.390015</td>\n",
       "      <td>474.420013</td>\n",
       "      <td>476.720001</td>\n",
       "      <td>476.720001</td>\n",
       "      <td>25859000</td>\n",
       "      <td>In-the-money</td>\n",
       "      <td>56.720001</td>\n",
       "      <td>56.720001</td>\n",
       "      <td>46.720001</td>\n",
       "    </tr>\n",
       "    <tr>\n",
       "      <th>2024-06-14</th>\n",
       "      <td>476.519989</td>\n",
       "      <td>479.260010</td>\n",
       "      <td>476.049988</td>\n",
       "      <td>479.190002</td>\n",
       "      <td>479.190002</td>\n",
       "      <td>23372600</td>\n",
       "      <td>In-the-money</td>\n",
       "      <td>59.190002</td>\n",
       "      <td>59.190002</td>\n",
       "      <td>49.190002</td>\n",
       "    </tr>\n",
       "    <tr>\n",
       "      <th>2024-06-17</th>\n",
       "      <td>479.459991</td>\n",
       "      <td>486.859985</td>\n",
       "      <td>478.140015</td>\n",
       "      <td>485.059998</td>\n",
       "      <td>485.059998</td>\n",
       "      <td>37054500</td>\n",
       "      <td>In-the-money</td>\n",
       "      <td>65.059998</td>\n",
       "      <td>65.059998</td>\n",
       "      <td>55.059998</td>\n",
       "    </tr>\n",
       "    <tr>\n",
       "      <th>2024-06-18</th>\n",
       "      <td>485.010010</td>\n",
       "      <td>485.899994</td>\n",
       "      <td>483.429993</td>\n",
       "      <td>485.209991</td>\n",
       "      <td>485.209991</td>\n",
       "      <td>24438600</td>\n",
       "      <td>In-the-money</td>\n",
       "      <td>65.209991</td>\n",
       "      <td>65.209991</td>\n",
       "      <td>55.209991</td>\n",
       "    </tr>\n",
       "  </tbody>\n",
       "</table>\n",
       "<p>102 rows × 10 columns</p>\n",
       "</div>"
      ],
      "text/plain": [
       "                  Open        High         Low       Close   Adj Close  \\\n",
       "Date                                                                     \n",
       "2024-01-19  415.220001  421.339996  414.630005  421.179993  420.623810   \n",
       "2024-01-22  423.410004  424.730011  421.119995  421.730011  421.173096   \n",
       "2024-01-23  422.429993  423.700012  420.570007  423.480011  422.920776   \n",
       "2024-01-24  427.440002  429.850006  425.329987  425.829987  425.267670   \n",
       "2024-01-25  428.359985  429.040009  423.980011  426.350006  425.786987   \n",
       "...                ...         ...         ...         ...         ...   \n",
       "2024-06-12  471.989990  476.500000  471.290009  474.149994  474.149994   \n",
       "2024-06-13  477.720001  478.390015  474.420013  476.720001  476.720001   \n",
       "2024-06-14  476.519989  479.260010  476.049988  479.190002  479.190002   \n",
       "2024-06-17  479.459991  486.859985  478.140015  485.059998  485.059998   \n",
       "2024-06-18  485.010010  485.899994  483.429993  485.209991  485.209991   \n",
       "\n",
       "              Volume        Status  Intrinsic Value  Profit/Loss  \\\n",
       "Date                                                               \n",
       "2024-01-19  70268500  In-the-money         1.179993     1.179993   \n",
       "2024-01-22  44880600  In-the-money         1.730011     1.730011   \n",
       "2024-01-23  33003800  In-the-money         3.480011     3.480011   \n",
       "2024-01-24  46948000  In-the-money         5.829987     5.829987   \n",
       "2024-01-25  44367200  In-the-money         6.350006     6.350006   \n",
       "...              ...           ...              ...          ...   \n",
       "2024-06-12  34532600  In-the-money        54.149994    54.149994   \n",
       "2024-06-13  25859000  In-the-money        56.720001    56.720001   \n",
       "2024-06-14  23372600  In-the-money        59.190002    59.190002   \n",
       "2024-06-17  37054500  In-the-money        65.059998    65.059998   \n",
       "2024-06-18  24438600  In-the-money        65.209991    65.209991   \n",
       "\n",
       "            Net Profit/Loss  \n",
       "Date                         \n",
       "2024-01-19        -8.820007  \n",
       "2024-01-22        -8.269989  \n",
       "2024-01-23        -6.519989  \n",
       "2024-01-24        -4.170013  \n",
       "2024-01-25        -3.649994  \n",
       "...                     ...  \n",
       "2024-06-12        44.149994  \n",
       "2024-06-13        46.720001  \n",
       "2024-06-14        49.190002  \n",
       "2024-06-17        55.059998  \n",
       "2024-06-18        55.209991  \n",
       "\n",
       "[102 rows x 10 columns]"
      ]
     },
     "execution_count": 23,
     "metadata": {},
     "output_type": "execute_result"
    }
   ],
   "source": [
    "data[data['Status'] == 'In-the-money']"
   ]
  },
  {
   "cell_type": "code",
   "execution_count": 11,
   "id": "627f00e2-f7b2-4dd6-a430-11d14f3e7f42",
   "metadata": {},
   "outputs": [
    {
     "data": {
      "image/png": "[encoded data removed]",
      "text/plain": [
       "<Figure size 640x480 with 1 Axes>"
      ]
     },
     "metadata": {},
     "output_type": "display_data"
    },
    {
     "data": {
      "text/plain": [
       "<Figure size 1800x1200 with 0 Axes>"
      ]
     },
     "metadata": {},
     "output_type": "display_data"
    }
   ],
   "source": [
    "plt.plot(data[data['Status'] == 'In-the-money']['Net Profit/Loss'], label = \"Intrinsic Value\")\n",
    "plt.title('QQQ - In-the-money')\n",
    "plt.xlabel('Date')\n",
    "plt.ylabel('Net Profit/Loss')\n",
    "plt.legend()\n",
    "plt.figure(figsize = (18, 12))\n",
    "plt.show()"
   ]
  },
  {
   "cell_type": "code",
   "execution_count": 10,
   "id": "28c9a4c0-1caf-4061-9bca-41ad317f6699",
   "metadata": {},
   "outputs": [
    {
     "name": "stdout",
     "output_type": "stream",
     "text": [
      "Profit if Call Option was purchased on 2023-05-20 and sold at expiry: 65.20999145507812\n"
     ]
    }
   ],
   "source": [
    "print(f'Profit if Call Option was purchased on {start_date} and sold at expiry: {data[\"Profit/Loss\"].iloc[-1]}')"
   ]
  }
 ],
 "metadata": {
  "kernelspec": {
   "display_name": "Python 3 (ipykernel)",
   "language": "python",
   "name": "python3"
  },
  "language_info": {
   "codemirror_mode": {
    "name": "ipython",
    "version": 3
   },
   "file_extension": ".py",
   "mimetype": "text/x-python",
   "name": "python",
   "nbconvert_exporter": "python",
   "pygments_lexer": "ipython3",
   "version": "3.9.6"
  },
  "widgets": {
   "application/vnd.jupyter.widget-state+json": {
    "state": {},
    "version_major": 2,
    "version_minor": 0
   }
  }
 },
 "nbformat": 4,
 "nbformat_minor": 5
}
